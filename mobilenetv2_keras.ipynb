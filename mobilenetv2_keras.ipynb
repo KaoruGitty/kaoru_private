{
  "nbformat": 4,
  "nbformat_minor": 0,
  "metadata": {
    "colab": {
      "provenance": [],
      "authorship_tag": "ABX9TyM2SrpTROgpPjwFZ9vd7+i1",
      "include_colab_link": true
    },
    "kernelspec": {
      "name": "python3",
      "display_name": "Python 3"
    },
    "language_info": {
      "name": "python"
    }
  },
  "cells": [
    {
      "cell_type": "markdown",
      "metadata": {
        "id": "view-in-github",
        "colab_type": "text"
      },
      "source": [
        "<a href=\"https://colab.research.google.com/github/KaoruGitty/kaoru_private/blob/main/mobilenetv2_keras.ipynb\" target=\"_parent\"><img src=\"https://colab.research.google.com/assets/colab-badge.svg\" alt=\"Open In Colab\"/></a>"
      ]
    },
    {
      "cell_type": "code",
      "execution_count": null,
      "metadata": {
        "id": "Wfqla0gjT9jF"
      },
      "outputs": [],
      "source": [
        "import tensorflow as tf\n",
        "from tensorflow import keras\n",
        "from tensorflow.keras import layers, models\n",
        "from from tensorflow.keras.applications import MobileNetV2\n",
        "import numpy as np\n",
        "import matplotlib.pyplot as plt"
      ]
    },
    {
      "cell_type": "code",
      "source": [
        "(train_images_all, train_labels_all), (test_images_all, test_labels_all) = keras.datasets.cifar10.load_data()"
      ],
      "metadata": {
        "id": "h3Qoaxi0VBW4"
      },
      "execution_count": null,
      "outputs": []
    },
    {
      "cell_type": "code",
      "source": [
        "class_names = ['airplane', 'automobile', 'bird', 'cat', 'deer',\n",
        "               'dog', 'frog', 'horse', 'ship', 'truck']"
      ],
      "metadata": {
        "id": "tobMNvd-Vla4"
      },
      "execution_count": null,
      "outputs": []
    },
    {
      "cell_type": "code",
      "source": [
        "cat_idx = class_names.index('cat')\n",
        "dog_idx = class_names.index('dog')"
      ],
      "metadata": {
        "id": "r0K4xWLcVqgK"
      },
      "execution_count": null,
      "outputs": []
    },
    {
      "cell_type": "code",
      "source": [
        "def filter_cat_dog(images, labels, cat_idx, dog_idx):\n",
        "  is_cat_dog = np.isin(labels.flatten(), [cat_idx, dog_idx])\n",
        "  filtered_images = images[is_cat_dog]\n",
        "  filtered_labels = labels[is_cat_dog]\n",
        "\n",
        "  filtered_labels[filtered_labels == cat_idx] = 0\n",
        "  filtered_labels[filtered_labels == dog_idx] = 1\n",
        "\n",
        "  return filtered_images, filtered_labels"
      ],
      "metadata": {
        "id": "GXygOrESV5LO"
      },
      "execution_count": null,
      "outputs": []
    },
    {
      "cell_type": "code",
      "source": [
        "train_images, train_labels = filter_cat_dog(train_images_all, train_labels_all, cat_idx, dog_idx)\n",
        "test_images, test_labels = filter_cat_dog(test_images_all, test_labels_all, cat_idx, dog_idx)\n",
        "print(train_images.shape, train_labels.shape)\n",
        "print(test_images.shape, test_labels.shape)"
      ],
      "metadata": {
        "id": "NEYUAXC1YuwA"
      },
      "execution_count": null,
      "outputs": []
    },
    {
      "cell_type": "code",
      "source": [
        "train_images = train_images / 255.0\n",
        "test_images = test_images / 255.0"
      ],
      "metadata": {
        "id": "7EZHnjATZY69"
      },
      "execution_count": null,
      "outputs": []
    },
    {
      "cell_type": "code",
      "source": [
        "plt.figsize(figure = (10, 10))\n",
        "for i in range(25):\n",
        "  plt.subplot(5, 5, i + 1)\n",
        "  plt.xticks([])\n",
        "  plt.yticks([])\n",
        "  plt.grid(False)\n",
        "  plt.imshow(train_images[i])\n",
        "  plt.xlabel('cat' if train_labels[i] == 0 else 'dog')\n",
        "  plt.show()"
      ],
      "metadata": {
        "id": "Z3YONfIxZp7M"
      },
      "execution_count": null,
      "outputs": []
    },
    {
      "cell_type": "code",
      "source": [],
      "metadata": {
        "id": "yg-YREoFa-1p"
      },
      "execution_count": null,
      "outputs": []
    }
  ]
}